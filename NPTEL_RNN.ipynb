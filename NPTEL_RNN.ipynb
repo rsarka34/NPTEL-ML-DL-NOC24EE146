{
  "cells": [
    {
      "cell_type": "markdown",
      "source": [
        "### **Implementation of LeNet-5**\n",
        "\n",
        "**Coder: Arka Roy**\n",
        "\n",
        "**Website: [https://github.com/rsarka34](https://github.com/rsarka34)**\n",
        "\n",
        "[![Open in Colab](https://colab.research.google.com/assets/colab-badge.svg)](https://colab.research.google.com/github/rsarka34/NPTEL-ML-DL-NOC24EE146/blob/main/NPTEL_RNN.ipynb)"
      ],
      "metadata": {
        "id": "JA90P5U9eXrH"
      },
      "id": "JA90P5U9eXrH"
    },
    {
      "cell_type": "code",
      "source": [
        "# LSTM for international airline passengers problem with regression framing\n",
        "import numpy as np\n",
        "import matplotlib.pyplot as plt\n",
        "from pandas import read_csv\n",
        "import math\n",
        "import tensorflow as tf\n",
        "from tensorflow.keras.models import Sequential\n",
        "from tensorflow.keras.layers import Dense\n",
        "from tensorflow.keras.layers import LSTM\n",
        "from sklearn.preprocessing import MinMaxScaler\n",
        "from sklearn.metrics import mean_squared_error"
      ],
      "metadata": {
        "id": "sp506BCjc_ry"
      },
      "id": "sp506BCjc_ry",
      "execution_count": 7,
      "outputs": []
    },
    {
      "cell_type": "code",
      "source": [
        "# convert an array of values into a dataset matrix\n",
        "def create_dataset(dataset, look_back=1):\n",
        "\tdataX, dataY = [], []\n",
        "\tfor i in range(len(dataset)-look_back-1):\n",
        "\t\ta = dataset[i:(i+look_back), 0]\n",
        "\t\tdataX.append(a)\n",
        "\t\tdataY.append(dataset[i + look_back, 0])\n",
        "\treturn np.array(dataX), np.array(dataY)"
      ],
      "metadata": {
        "id": "XJbMFlUydBJ3"
      },
      "id": "XJbMFlUydBJ3",
      "execution_count": 8,
      "outputs": []
    },
    {
      "cell_type": "code",
      "source": [
        "# fix random seed for reproducibility\n",
        "tf.random.set_seed(7)\n",
        "# load the dataset\n",
        "dataframe = read_csv('/content/AirPassengers.csv', usecols=[1], engine='python')\n",
        "dataset = dataframe.values\n",
        "dataset = dataset.astype('float32')"
      ],
      "metadata": {
        "id": "hk7EpnTNdDmS"
      },
      "id": "hk7EpnTNdDmS",
      "execution_count": 11,
      "outputs": []
    },
    {
      "cell_type": "code",
      "source": [
        "# normalize the dataset\n",
        "scaler = MinMaxScaler(feature_range=(0, 1))\n",
        "dataset = scaler.fit_transform(dataset)\n",
        "# split into train and test sets\n",
        "train_size = int(len(dataset) * 0.67)\n",
        "test_size = len(dataset) - train_size\n",
        "train, test = dataset[0:train_size,:], dataset[train_size:len(dataset),:]"
      ],
      "metadata": {
        "id": "tZsHCNr4dwS-"
      },
      "id": "tZsHCNr4dwS-",
      "execution_count": 13,
      "outputs": []
    },
    {
      "cell_type": "code",
      "source": [
        "# reshape into X=t and Y=t+1\n",
        "look_back = 1\n",
        "trainX, trainY = create_dataset(train, look_back)\n",
        "testX, testY = create_dataset(test, look_back)"
      ],
      "metadata": {
        "id": "DXKmqo8odzFR"
      },
      "id": "DXKmqo8odzFR",
      "execution_count": 14,
      "outputs": []
    },
    {
      "cell_type": "code",
      "source": [
        "# reshape input to be [samples, time steps, features]\n",
        "trainX = np.reshape(trainX, (trainX.shape[0], 1, trainX.shape[1]))\n",
        "testX = np.reshape(testX, (testX.shape[0], 1, testX.shape[1]))"
      ],
      "metadata": {
        "id": "B6FWJ93vd1gY"
      },
      "id": "B6FWJ93vd1gY",
      "execution_count": 15,
      "outputs": []
    },
    {
      "cell_type": "code",
      "source": [
        "# create and fit the LSTM network\n",
        "model = Sequential()\n",
        "model.add(LSTM(4, input_shape=(1, look_back)))\n",
        "model.add(Dense(1))\n",
        "model.compile(loss='mean_squared_error', optimizer='adam')\n",
        "model.fit(trainX, trainY, epochs=100, batch_size=1, verbose=2)"
      ],
      "metadata": {
        "colab": {
          "base_uri": "https://localhost:8080/"
        },
        "id": "k0mjjs7Bd4sv",
        "outputId": "c979468a-04f6-4e39-8929-b7983d49975a"
      },
      "id": "k0mjjs7Bd4sv",
      "execution_count": 16,
      "outputs": [
        {
          "output_type": "stream",
          "name": "stdout",
          "text": [
            "Epoch 1/100\n"
          ]
        },
        {
          "output_type": "stream",
          "name": "stderr",
          "text": [
            "/usr/local/lib/python3.10/dist-packages/keras/src/layers/rnn/rnn.py:204: UserWarning: Do not pass an `input_shape`/`input_dim` argument to a layer. When using Sequential models, prefer using an `Input(shape)` object as the first layer in the model instead.\n",
            "  super().__init__(**kwargs)\n"
          ]
        },
        {
          "output_type": "stream",
          "name": "stdout",
          "text": [
            "94/94 - 2s - 18ms/step - loss: 0.0527\n",
            "Epoch 2/100\n",
            "94/94 - 0s - 2ms/step - loss: 0.0277\n",
            "Epoch 3/100\n",
            "94/94 - 0s - 2ms/step - loss: 0.0197\n",
            "Epoch 4/100\n",
            "94/94 - 1s - 5ms/step - loss: 0.0174\n",
            "Epoch 5/100\n",
            "94/94 - 1s - 7ms/step - loss: 0.0161\n",
            "Epoch 6/100\n",
            "94/94 - 0s - 5ms/step - loss: 0.0150\n",
            "Epoch 7/100\n",
            "94/94 - 0s - 3ms/step - loss: 0.0138\n",
            "Epoch 8/100\n",
            "94/94 - 0s - 3ms/step - loss: 0.0125\n",
            "Epoch 9/100\n",
            "94/94 - 0s - 4ms/step - loss: 0.0113\n",
            "Epoch 10/100\n",
            "94/94 - 1s - 5ms/step - loss: 0.0100\n",
            "Epoch 11/100\n",
            "94/94 - 0s - 3ms/step - loss: 0.0087\n",
            "Epoch 12/100\n",
            "94/94 - 0s - 2ms/step - loss: 0.0075\n",
            "Epoch 13/100\n",
            "94/94 - 0s - 3ms/step - loss: 0.0064\n",
            "Epoch 14/100\n",
            "94/94 - 0s - 3ms/step - loss: 0.0054\n",
            "Epoch 15/100\n",
            "94/94 - 0s - 3ms/step - loss: 0.0045\n",
            "Epoch 16/100\n",
            "94/94 - 0s - 3ms/step - loss: 0.0038\n",
            "Epoch 17/100\n",
            "94/94 - 0s - 3ms/step - loss: 0.0032\n",
            "Epoch 18/100\n",
            "94/94 - 0s - 4ms/step - loss: 0.0028\n",
            "Epoch 19/100\n",
            "94/94 - 0s - 2ms/step - loss: 0.0025\n",
            "Epoch 20/100\n",
            "94/94 - 0s - 2ms/step - loss: 0.0023\n",
            "Epoch 21/100\n",
            "94/94 - 0s - 3ms/step - loss: 0.0022\n",
            "Epoch 22/100\n",
            "94/94 - 0s - 3ms/step - loss: 0.0021\n",
            "Epoch 23/100\n",
            "94/94 - 0s - 3ms/step - loss: 0.0021\n",
            "Epoch 24/100\n",
            "94/94 - 0s - 2ms/step - loss: 0.0021\n",
            "Epoch 25/100\n",
            "94/94 - 0s - 3ms/step - loss: 0.0020\n",
            "Epoch 26/100\n",
            "94/94 - 0s - 3ms/step - loss: 0.0020\n",
            "Epoch 27/100\n",
            "94/94 - 0s - 2ms/step - loss: 0.0020\n",
            "Epoch 28/100\n",
            "94/94 - 0s - 3ms/step - loss: 0.0020\n",
            "Epoch 29/100\n",
            "94/94 - 1s - 6ms/step - loss: 0.0020\n",
            "Epoch 30/100\n",
            "94/94 - 0s - 4ms/step - loss: 0.0020\n",
            "Epoch 31/100\n",
            "94/94 - 1s - 8ms/step - loss: 0.0020\n",
            "Epoch 32/100\n",
            "94/94 - 0s - 4ms/step - loss: 0.0020\n",
            "Epoch 33/100\n",
            "94/94 - 1s - 7ms/step - loss: 0.0020\n",
            "Epoch 34/100\n",
            "94/94 - 0s - 4ms/step - loss: 0.0020\n",
            "Epoch 35/100\n",
            "94/94 - 0s - 5ms/step - loss: 0.0020\n",
            "Epoch 36/100\n",
            "94/94 - 0s - 3ms/step - loss: 0.0020\n",
            "Epoch 37/100\n",
            "94/94 - 0s - 3ms/step - loss: 0.0020\n",
            "Epoch 38/100\n",
            "94/94 - 0s - 3ms/step - loss: 0.0020\n",
            "Epoch 39/100\n",
            "94/94 - 0s - 2ms/step - loss: 0.0020\n",
            "Epoch 40/100\n",
            "94/94 - 0s - 3ms/step - loss: 0.0020\n",
            "Epoch 41/100\n",
            "94/94 - 0s - 3ms/step - loss: 0.0020\n",
            "Epoch 42/100\n",
            "94/94 - 0s - 3ms/step - loss: 0.0020\n",
            "Epoch 43/100\n",
            "94/94 - 0s - 3ms/step - loss: 0.0020\n",
            "Epoch 44/100\n",
            "94/94 - 0s - 3ms/step - loss: 0.0020\n",
            "Epoch 45/100\n",
            "94/94 - 0s - 2ms/step - loss: 0.0020\n",
            "Epoch 46/100\n",
            "94/94 - 0s - 3ms/step - loss: 0.0020\n",
            "Epoch 47/100\n",
            "94/94 - 0s - 2ms/step - loss: 0.0020\n",
            "Epoch 48/100\n",
            "94/94 - 0s - 3ms/step - loss: 0.0020\n",
            "Epoch 49/100\n",
            "94/94 - 0s - 5ms/step - loss: 0.0020\n",
            "Epoch 50/100\n",
            "94/94 - 1s - 6ms/step - loss: 0.0020\n",
            "Epoch 51/100\n",
            "94/94 - 0s - 5ms/step - loss: 0.0020\n",
            "Epoch 52/100\n",
            "94/94 - 1s - 6ms/step - loss: 0.0020\n",
            "Epoch 53/100\n",
            "94/94 - 0s - 5ms/step - loss: 0.0020\n",
            "Epoch 54/100\n",
            "94/94 - 0s - 2ms/step - loss: 0.0020\n",
            "Epoch 55/100\n",
            "94/94 - 0s - 2ms/step - loss: 0.0020\n",
            "Epoch 56/100\n",
            "94/94 - 0s - 3ms/step - loss: 0.0020\n",
            "Epoch 57/100\n",
            "94/94 - 0s - 2ms/step - loss: 0.0020\n",
            "Epoch 58/100\n",
            "94/94 - 0s - 3ms/step - loss: 0.0020\n",
            "Epoch 59/100\n",
            "94/94 - 0s - 5ms/step - loss: 0.0020\n",
            "Epoch 60/100\n",
            "94/94 - 1s - 9ms/step - loss: 0.0020\n",
            "Epoch 61/100\n",
            "94/94 - 1s - 11ms/step - loss: 0.0020\n",
            "Epoch 62/100\n",
            "94/94 - 1s - 6ms/step - loss: 0.0020\n",
            "Epoch 63/100\n",
            "94/94 - 0s - 3ms/step - loss: 0.0020\n",
            "Epoch 64/100\n",
            "94/94 - 0s - 3ms/step - loss: 0.0020\n",
            "Epoch 65/100\n",
            "94/94 - 0s - 2ms/step - loss: 0.0020\n",
            "Epoch 66/100\n",
            "94/94 - 0s - 2ms/step - loss: 0.0020\n",
            "Epoch 67/100\n",
            "94/94 - 0s - 3ms/step - loss: 0.0020\n",
            "Epoch 68/100\n",
            "94/94 - 0s - 3ms/step - loss: 0.0020\n",
            "Epoch 69/100\n",
            "94/94 - 0s - 3ms/step - loss: 0.0020\n",
            "Epoch 70/100\n",
            "94/94 - 0s - 5ms/step - loss: 0.0020\n",
            "Epoch 71/100\n",
            "94/94 - 0s - 5ms/step - loss: 0.0020\n",
            "Epoch 72/100\n",
            "94/94 - 0s - 2ms/step - loss: 0.0020\n",
            "Epoch 73/100\n",
            "94/94 - 0s - 2ms/step - loss: 0.0020\n",
            "Epoch 74/100\n",
            "94/94 - 0s - 3ms/step - loss: 0.0020\n",
            "Epoch 75/100\n",
            "94/94 - 0s - 2ms/step - loss: 0.0020\n",
            "Epoch 76/100\n",
            "94/94 - 0s - 5ms/step - loss: 0.0020\n",
            "Epoch 77/100\n",
            "94/94 - 0s - 5ms/step - loss: 0.0020\n",
            "Epoch 78/100\n",
            "94/94 - 0s - 3ms/step - loss: 0.0020\n",
            "Epoch 79/100\n",
            "94/94 - 0s - 5ms/step - loss: 0.0020\n",
            "Epoch 80/100\n",
            "94/94 - 0s - 4ms/step - loss: 0.0020\n",
            "Epoch 81/100\n",
            "94/94 - 1s - 5ms/step - loss: 0.0020\n",
            "Epoch 82/100\n",
            "94/94 - 0s - 3ms/step - loss: 0.0020\n",
            "Epoch 83/100\n",
            "94/94 - 0s - 3ms/step - loss: 0.0020\n",
            "Epoch 84/100\n",
            "94/94 - 0s - 3ms/step - loss: 0.0020\n",
            "Epoch 85/100\n",
            "94/94 - 0s - 3ms/step - loss: 0.0020\n",
            "Epoch 86/100\n",
            "94/94 - 0s - 3ms/step - loss: 0.0020\n",
            "Epoch 87/100\n",
            "94/94 - 0s - 3ms/step - loss: 0.0020\n",
            "Epoch 88/100\n",
            "94/94 - 0s - 3ms/step - loss: 0.0020\n",
            "Epoch 89/100\n",
            "94/94 - 0s - 2ms/step - loss: 0.0020\n",
            "Epoch 90/100\n",
            "94/94 - 0s - 3ms/step - loss: 0.0020\n",
            "Epoch 91/100\n",
            "94/94 - 0s - 2ms/step - loss: 0.0020\n",
            "Epoch 92/100\n",
            "94/94 - 0s - 2ms/step - loss: 0.0020\n",
            "Epoch 93/100\n",
            "94/94 - 0s - 4ms/step - loss: 0.0020\n",
            "Epoch 94/100\n",
            "94/94 - 0s - 3ms/step - loss: 0.0020\n",
            "Epoch 95/100\n",
            "94/94 - 0s - 2ms/step - loss: 0.0020\n",
            "Epoch 96/100\n",
            "94/94 - 0s - 3ms/step - loss: 0.0020\n",
            "Epoch 97/100\n",
            "94/94 - 0s - 3ms/step - loss: 0.0020\n",
            "Epoch 98/100\n",
            "94/94 - 0s - 2ms/step - loss: 0.0020\n",
            "Epoch 99/100\n",
            "94/94 - 0s - 3ms/step - loss: 0.0020\n",
            "Epoch 100/100\n",
            "94/94 - 0s - 3ms/step - loss: 0.0020\n"
          ]
        },
        {
          "output_type": "execute_result",
          "data": {
            "text/plain": [
              "<keras.src.callbacks.history.History at 0x7da2d58c8fa0>"
            ]
          },
          "metadata": {},
          "execution_count": 16
        }
      ]
    },
    {
      "cell_type": "code",
      "source": [
        "# make predictions\n",
        "trainPredict = model.predict(trainX)\n",
        "testPredict = model.predict(testX)\n",
        "\n",
        "# invert predictions\n",
        "trainPredict = scaler.inverse_transform(trainPredict)\n",
        "trainY = scaler.inverse_transform([trainY])\n",
        "testPredict = scaler.inverse_transform(testPredict)\n",
        "testY = scaler.inverse_transform([testY])\n",
        "\n",
        "# calculate root mean squared error\n",
        "trainScore = np.sqrt(mean_squared_error(trainY[0], trainPredict[:,0]))\n",
        "print('Train Score: %.2f RMSE' % (trainScore))\n",
        "testScore = np.sqrt(mean_squared_error(testY[0], testPredict[:,0]))\n",
        "print('Test Score: %.2f RMSE' % (testScore))\n",
        "\n",
        "# shift train predictions for plotting\n",
        "trainPredictPlot = np.empty_like(dataset)\n",
        "trainPredictPlot[:, :] = np.nan\n",
        "trainPredictPlot[look_back:len(trainPredict)+look_back, :] = trainPredict\n",
        "\n",
        "# shift test predictions for plotting\n",
        "testPredictPlot = np.empty_like(dataset)\n",
        "testPredictPlot[:, :] = np.nan\n",
        "testPredictPlot[len(trainPredict)+(look_back*2)+1:len(dataset)-1, :] = testPredict\n",
        "\n",
        "# plot baseline and predictions\n",
        "plt.plot(scaler.inverse_transform(dataset))\n",
        "plt.plot(trainPredictPlot)\n",
        "plt.plot(testPredictPlot)\n",
        "plt.show()"
      ],
      "metadata": {
        "colab": {
          "base_uri": "https://localhost:8080/",
          "height": 520
        },
        "id": "Bpaa1lmTc9Zw",
        "outputId": "bbe5813b-3e9a-4c9d-c0d5-7ed47addfbf8"
      },
      "id": "Bpaa1lmTc9Zw",
      "execution_count": 17,
      "outputs": [
        {
          "output_type": "stream",
          "name": "stdout",
          "text": [
            "\u001b[1m3/3\u001b[0m \u001b[32m━━━━━━━━━━━━━━━━━━━━\u001b[0m\u001b[37m\u001b[0m \u001b[1m1s\u001b[0m 151ms/step\n",
            "\u001b[1m2/2\u001b[0m \u001b[32m━━━━━━━━━━━━━━━━━━━━\u001b[0m\u001b[37m\u001b[0m \u001b[1m0s\u001b[0m 4ms/step \n",
            "Train Score: 22.74 RMSE\n",
            "Test Score: 50.68 RMSE\n"
          ]
        },
        {
          "output_type": "display_data",
          "data": {
            "text/plain": [
              "<Figure size 640x480 with 1 Axes>"
            ],
            "image/png": "[encoded data removed]"
          },
          "metadata": {}
        }
      ]
    }
  ],
  "metadata": {
    "kernelspec": {
      "display_name": "Python 3",
      "language": "python",
      "name": "python3"
    },
    "language_info": {
      "codemirror_mode": {
        "name": "ipython",
        "version": 3
      },
      "file_extension": ".py",
      "mimetype": "text/x-python",
      "name": "python",
      "nbconvert_exporter": "python",
      "pygments_lexer": "ipython3",
      "version": "3.7.12"
    },
    "papermill": {
      "default_parameters": {},
      "duration": 212.249929,
      "end_time": "2023-01-31T12:56:57.092165",
      "environment_variables": {},
      "exception": null,
      "input_path": "__notebook__.ipynb",
      "output_path": "__notebook__.ipynb",
      "parameters": {},
      "start_time": "2023-01-31T12:53:24.842236",
      "version": "2.3.4"
    },
    "colab": {
      "provenance": []
    }
  },
  "nbformat": 4,
  "nbformat_minor": 5
}